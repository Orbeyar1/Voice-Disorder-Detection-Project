{
  "nbformat": 4,
  "nbformat_minor": 0,
  "metadata": {
    "colab": {
      "provenance": [],
      "authorship_tag": "ABX9TyOwiLTAL91vTMk94+tFj9NS",
      "include_colab_link": true
    },
    "kernelspec": {
      "name": "python3",
      "display_name": "Python 3"
    },
    "language_info": {
      "name": "python"
    }
  },
  "cells": [
    {
      "cell_type": "markdown",
      "metadata": {
        "id": "view-in-github",
        "colab_type": "text"
      },
      "source": [
        "<a href=\"https://colab.research.google.com/github/Orbeyar1/Voice-Disorder-Detection-Project/blob/main/Audio_split_via_VAD.ipynb\" target=\"_parent\"><img src=\"https://colab.research.google.com/assets/colab-badge.svg\" alt=\"Open In Colab\"/></a>"
      ]
    },
    {
      "cell_type": "code",
      "execution_count": null,
      "metadata": {
        "colab": {
          "base_uri": "https://localhost:8080/"
        },
        "id": "COXmxAQaWR9U",
        "outputId": "8646795a-c8b0-4b91-8f3e-22e1d4bb1510"
      },
      "outputs": [
        {
          "output_type": "stream",
          "name": "stdout",
          "text": [
            "Drive already mounted at /content/drive; to attempt to forcibly remount, call drive.mount(\"/content/drive\", force_remount=True).\n"
          ]
        }
      ],
      "source": [
        "from google.colab import drive\n",
        "drive.mount('/content/drive')\n",
        "# Change this based on the drive being used\n",
        "my_voice_data = '/content/drive/MyDrive/Study_materials/Voice samples study'"
      ]
    },
    {
      "cell_type": "code",
      "source": [
        "## Imports\n",
        "\n",
        "import os\n",
        "import numpy as np\n",
        "import torch\n",
        "import torchaudio\n",
        "import torchaudio.functional as F\n",
        "import torchaudio.transforms as T\n",
        "import matplotlib.pyplot as plt\n",
        "import librosa\n",
        "import soundfile as sf\n",
        "from IPython.display import Audio\n",
        "\n",
        "print(torch.__version__)\n",
        "print(torchaudio.__version__)\n",
        "\n",
        "## Use cuda if available\n",
        "torch.random.manual_seed(0)\n",
        "device = torch.device(\"cuda\" if torch.cuda.is_available() else \"cpu\")\n",
        "\n",
        "print(device)"
      ],
      "metadata": {
        "colab": {
          "base_uri": "https://localhost:8080/"
        },
        "id": "3cJx2KuuXK-Q",
        "outputId": "5fec7d5e-10fa-4cb4-b39b-74bc47d9051b"
      },
      "execution_count": null,
      "outputs": [
        {
          "output_type": "stream",
          "name": "stdout",
          "text": [
            "2.0.1+cu118\n",
            "2.0.2+cu118\n",
            "cpu\n"
          ]
        }
      ]
    },
    {
      "cell_type": "code",
      "source": [
        "# Define constants\n",
        "wanted_sample_rate = 16000\n",
        "\n",
        "audio_labels = [\"normal pitch E\",\"low pitch E\",\"high pitch E\",\n",
        "                \"normal pitch Ah\",\"low pitch Ah\",\"high pitch Ah\",\n",
        "                \"normal pitch Ooh\",\"low pitch Ooh\",\"high pitch Ooh\",\n",
        "                \"normal pitch Mmmmm\"]\n",
        "\n",
        "def plot_waveform(waveform, sample_rate):\n",
        "    waveform = waveform.numpy()\n",
        "    num_channels, num_frames = waveform.shape\n",
        "    time_axis = torch.arange(0, num_frames) / sample_rate\n",
        "\n",
        "    figure, axes = plt.subplots(num_channels, 1)\n",
        "    if num_channels == 1:\n",
        "        axes = [axes]\n",
        "    for c in range(num_channels):\n",
        "        axes[c].plot(time_axis, waveform[c], linewidth=1)\n",
        "        axes[c].grid(True)\n",
        "        if num_channels > 1:\n",
        "            axes[c].set_ylabel(f\"Channel {c+1}\")\n",
        "    figure.suptitle(\"waveform\")\n",
        "    plt.show(block=False)"
      ],
      "metadata": {
        "id": "x89PJopTPGZi"
      },
      "execution_count": null,
      "outputs": []
    },
    {
      "cell_type": "code",
      "source": [
        "### Load Data ##\n",
        "\n",
        "# First we count number of .wav files\n",
        "counter = 0\n",
        "for filename in os.listdir(my_voice_data):\n",
        "    if filename.endswith(\"wav\"):\n",
        "      counter +=1\n",
        "print(f'We have {counter} .wav files')\n",
        "\n",
        "# We bucket sort all patients into an array of mono-channel, 16k S/R audiotorch tensors.\n",
        "patients_audio_list = [None] * (counter + 2) # We add +2 because there's a mis-lable in filenames\n",
        "for filename in os.listdir(my_voice_data):\n",
        "    if filename.endswith(\"wav\"):\n",
        "      # Extract patient's ID from filename\n",
        "        _, numberwav = filename.split(\" \")\n",
        "        number = numberwav.split(\".\")\n",
        "        patient_id = number[0]\n",
        "        waveform, sample_rate = torchaudio.load(my_voice_data +'/'+ filename)\n",
        "        transform = T.Resample(sample_rate, wanted_sample_rate)\n",
        "        waveform = transform(waveform)\n",
        "        waveform_mono = torch.mean(waveform, dim=0).unsqueeze(0)\n",
        "        # if sample_rate != wanted_sample_rate:\n",
        "        #   waveform = torchaudio.functional.resample(waveform, sample_rate, wanted_sample_rate)\n",
        "        patients_audio_list[int(patient_id)] = (int(patient_id),waveform_mono,wanted_sample_rate)\n"
      ],
      "metadata": {
        "colab": {
          "base_uri": "https://localhost:8080/"
        },
        "id": "Nbq09vHiX_p1",
        "outputId": "bd334fe4-9087-42c8-9b51-51d9e8151a9f"
      },
      "execution_count": null,
      "outputs": [
        {
          "output_type": "stream",
          "name": "stdout",
          "text": [
            "We have 234 .wav files\n"
          ]
        }
      ]
    },
    {
      "cell_type": "code",
      "source": [
        "def split_audio_without_silence(audio_tensor, sample_rate):\n",
        "    # Convert audio tensor to numpy array\n",
        "    audio_array = np.array(audio_tensor)\n",
        "\n",
        "    # Find non-silent intervals in the audio\n",
        "    intervals = librosa.effects.split(audio_array, top_db=20)\n",
        "    # Initialize an empty list to store the non-silent audio chunks\n",
        "    chunks = []\n",
        "\n",
        "    # Extract non-silent intervals as audio chunks\n",
        "    for interval in intervals:\n",
        "        start_sample, end_sample = interval\n",
        "        chunk = audio_array[0][start_sample:end_sample]\n",
        "        chunks.append(chunk)\n",
        "\n",
        "    return chunks\n",
        "\n",
        "# Example usage\n",
        "audio_tensor = patients_audio_list[2][1]  # Replace with your audio tensor\n",
        "sample_rate = 16000  # Desired sample rate\n",
        "\n",
        "audio_chunks = split_audio_without_silence(audio_tensor, wanted_sample_rate)\n"
      ],
      "metadata": {
        "id": "mVwHyV5CeL1U"
      },
      "execution_count": null,
      "outputs": []
    },
    {
      "cell_type": "code",
      "source": [
        "Audio(audio_chunks[16], rate=sample_rate)"
      ],
      "metadata": {
        "colab": {
          "base_uri": "https://localhost:8080/",
          "height": 61
        },
        "id": "LyLjN9SfMpOY",
        "outputId": "27cecd22-550e-4a0d-c322-9fe716be6603"
      },
      "execution_count": null,
      "outputs": [
        {
          "output_type": "execute_result",
          "data": {
            "text/plain": [
              "<IPython.lib.display.Audio object>"
            ],
            "text/html": [
              "\n",
              "                <audio  controls=\"controls\" >\n",
              "                    <source src=\"data:audio/wav;base64,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\" type=\"audio/wav\" />\n",
              "                    Your browser does not support the audio element.\n",
              "                </audio>\n",
              "              "
            ]
          },
          "metadata": {},
          "execution_count": 76
        }
      ]
    },
    {
      "cell_type": "code",
      "source": [
        "## print chunks waveforms for observation and debugging\n",
        "fignum = 1\n",
        "for chunk in audio_chunks:\n",
        "  fig = plt.figure(fignum,figsize=(4,2))\n",
        "  if fignum-1 < len(audio_labels):\n",
        "    fig.suptitle(f'Chunk-{fignum-1} {audio_labels[fignum-1]}', fontsize=12)\n",
        "  else:\n",
        "    fig.suptitle(f'Chunk-{fignum-1} Speech', fontsize=12)\n",
        "  plt.plot(chunk)\n",
        "  fignum = fignum+1"
      ],
      "metadata": {
        "id": "5sq6q0d-62y8"
      },
      "execution_count": null,
      "outputs": []
    }
  ]
}