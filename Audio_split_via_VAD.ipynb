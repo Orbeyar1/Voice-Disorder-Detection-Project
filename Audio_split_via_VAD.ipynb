{
  "nbformat": 4,
  "nbformat_minor": 0,
  "metadata": {
    "colab": {
      "provenance": [],
      "authorship_tag": "ABX9TyMTgJ4xweKGz9Ppkz1P7Vi1",
      "include_colab_link": true
    },
    "kernelspec": {
      "name": "python3",
      "display_name": "Python 3"
    },
    "language_info": {
      "name": "python"
    }
  },
  "cells": [
    {
      "cell_type": "markdown",
      "metadata": {
        "id": "view-in-github",
        "colab_type": "text"
      },
      "source": [
        "<a href=\"https://colab.research.google.com/github/Orbeyar1/Voice-Disorder-Detection-Project/blob/main/Audio_split_via_VAD.ipynb\" target=\"_parent\"><img src=\"https://colab.research.google.com/assets/colab-badge.svg\" alt=\"Open In Colab\"/></a>"
      ]
    },
    {
      "cell_type": "code",
      "execution_count": 1,
      "metadata": {
        "colab": {
          "base_uri": "https://localhost:8080/"
        },
        "id": "COXmxAQaWR9U",
        "outputId": "30f08ef1-4b4a-4bde-8ada-79a37a8de9dc"
      },
      "outputs": [
        {
          "output_type": "stream",
          "name": "stdout",
          "text": [
            "Mounted at /content/drive\n"
          ]
        }
      ],
      "source": [
        "from google.colab import drive\n",
        "drive.mount('/content/drive')\n",
        "# /content/drive/MyDrive/Study_materials/Voice samples study"
      ]
    },
    {
      "cell_type": "code",
      "source": [
        "\n",
        "## Imports \n",
        "\n",
        "import torch\n",
        "import torchaudio\n",
        "import torchaudio.functional as F\n",
        "import torchaudio.transforms as T\n",
        "import matplotlib.pyplot as plt\n",
        "\n",
        "print(torch.__version__)\n",
        "print(torchaudio.__version__)\n",
        "\n",
        "## Use cuda if available\n",
        "torch.random.manual_seed(0)\n",
        "device = torch.device(\"cuda\" if torch.cuda.is_available() else \"cpu\")\n",
        "\n",
        "print(device)"
      ],
      "metadata": {
        "id": "3cJx2KuuXK-Q"
      },
      "execution_count": null,
      "outputs": []
    },
    {
      "cell_type": "code",
      "source": [
        "# Load Data \n",
        "\n",
        "frame_offset, num_frames = 0, 48000*30 # samplerate * seconds\n",
        "# waveform, sample_rate = torchaudio.load('/content/Patient_01.wav',frame_offset=frame_offset,\n",
        "#                             num_frames=num_frames)\n",
        "waveform, sample_rate = torchaudio.load('/content/Patient_01.wav')\n",
        "waveform = waveform.to(device)\n",
        "\n",
        "if sample_rate != bundle.sample_rate:\n",
        "    waveform = torchaudio.functional.resample(waveform, sample_rate, bundle.sample_rate)\n"
      ],
      "metadata": {
        "id": "Nbq09vHiX_p1"
      },
      "execution_count": null,
      "outputs": []
    }
  ]
}